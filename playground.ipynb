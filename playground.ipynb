{
 "cells": [
  {
   "cell_type": "code",
   "execution_count": null,
   "id": "6dbb586f",
   "metadata": {},
   "outputs": [],
   "source": [
    "import torch\n",
    "import numpy as np\n",
    "import matplotlib.pyplot as plt\n",
    "from mpl_toolkits.axes_grid1.inset_locator import inset_axes\n",
    "from tqdm import tqdm\n",
    "\n",
    "from sampler import Sampler\n",
    "from dataset import SQGDataset"
   ]
  },
  {
   "cell_type": "code",
   "execution_count": null,
   "id": "0e3643a9",
   "metadata": {},
   "outputs": [],
   "source": []
  },
  {
   "cell_type": "code",
   "execution_count": null,
   "id": "15d0872b",
   "metadata": {},
   "outputs": [],
   "source": [
    "model_path = \"best_model.pth\"\n",
    "image_shape = (2, 64, 64)\n",
    "device = torch.device(\"cuda\" if torch.cuda.is_available() else \"cpu\")\n",
    "\n",
    "members = 5\n",
    "\n",
    "eps = lambda t: 0.1 * (1 - t)  # Noise when sampling\n",
    "invert_eps = lambda t: 0. * (1 - t)  # Noise when inverting\n",
    "\n",
    "steps = 100\n",
    "invert_steps = 100\n",
    "\n",
    "debug = True\n",
    "\n",
    "sampler = Sampler(device, members, eps, steps, invert_eps, invert_steps, model_path, debug)"
   ]
  },
  {
   "cell_type": "markdown",
   "id": "c2998025",
   "metadata": {},
   "source": [
    "### Example on how to invert a physical state"
   ]
  },
  {
   "cell_type": "code",
   "execution_count": null,
   "id": "cd3aa613",
   "metadata": {},
   "outputs": [],
   "source": [
    "bs = 1\n",
    "data_std = 2660\n",
    "dataset = SQGDataset(\"data/SQG\", mean=0, std=data_std)\n",
    "\n",
    "loader = torch.utils.data.DataLoader(dataset, batch_size=bs, shuffle=False)"
   ]
  },
  {
   "cell_type": "code",
   "execution_count": null,
   "id": "b6827e8e",
   "metadata": {},
   "outputs": [],
   "source": [
    "# Example on inverting a sample\n",
    "truth = next(iter(loader)).to(device)\n",
    "z1 = truth.repeat(members, 1, 1, 1)\n",
    "\n",
    "z0 = sampler.invert(z1)"
   ]
  },
  {
   "cell_type": "markdown",
   "id": "9a841790",
   "metadata": {},
   "source": [
    "### Example on how to sample a physical state"
   ]
  },
  {
   "cell_type": "code",
   "execution_count": null,
   "id": "a119d3a9",
   "metadata": {},
   "outputs": [],
   "source": [
    "# Example on how to invert prior\n",
    "bs = 1\n",
    "data_std_inverted = 1\n",
    "dataset_inverted = SQGDataset(\"data/inverted_SQG\", mean=0, std=data_std_inverted)\n",
    "\n",
    "loader_inverted = torch.utils.data.DataLoader(dataset_inverted, batch_size=bs, shuffle=True)"
   ]
  },
  {
   "cell_type": "code",
   "execution_count": null,
   "id": "608ba3eb",
   "metadata": {},
   "outputs": [],
   "source": [
    "## Noise from your timeseries\n",
    "#z0 = next(iter(loader_inverted)).to(device)\n",
    "\n",
    "## Random noise\n",
    "#z0 = torch.randn((members, *image_shape), device=device)\n",
    "\n",
    "## All the same noise for testing epsilon\n",
    "#z0 = torch.randn((1, *image_shape), device=device).repeat(members, 1, 1, 1)\n",
    "\n",
    "z1, _ = sampler.sample(z0)"
   ]
  },
  {
   "cell_type": "markdown",
   "id": "1039bcfb",
   "metadata": {},
   "source": [
    "### Plotting"
   ]
  },
  {
   "cell_type": "code",
   "execution_count": null,
   "id": "33718210",
   "metadata": {},
   "outputs": [],
   "source": [
    "plot_truth = truth.cpu()\n",
    "plot_sample = z1.cpu() \n",
    "plot_ens_mean = plot_sample.mean(dim=0)\n",
    "level = 0"
   ]
  },
  {
   "cell_type": "code",
   "execution_count": null,
   "id": "188cfc42",
   "metadata": {},
   "outputs": [],
   "source": [
    "fig, axs = plt.subplots(2,3, figsize=(8,6))\n",
    "cmap  =  plt.get_cmap('viridis', 10) #'jet' #\n",
    "\n",
    "vmin = truth[:,level].min()\n",
    "vmax = truth[:,level].max()\n",
    "\n",
    "rmse = ((plot_sample - truth)).pow(2).mean(dim=(1,2,3)).sqrt()\n",
    "rmse_mean = ((plot_ens_mean - truth)).pow(2).mean(dim=(1,2,3)).sqrt()[0]\n",
    "\n",
    "\n",
    "def set_cbar(im):\n",
    "    ax = im.axes\n",
    "    # Create an inset axes for the colorbar above the plot\n",
    "    cax = inset_axes(ax,\n",
    "                        width=\"100%\",   # relative to ax width\n",
    "                        height=\"5%\",   # relative to ax height\n",
    "                        loc='upper center',\n",
    "                        bbox_to_anchor=(0, 0.18, 1, 1),  # place above\n",
    "                        bbox_transform=ax.transAxes,\n",
    "                        borderpad=0)\n",
    "    cbar = plt.colorbar(im, cax=cax, orientation='horizontal')\n",
    "    cbar.ax.xaxis.set_ticks_position('top')\n",
    "    cbar.ax.xaxis.set_label_position('top')\n",
    "\n",
    "# Define highlight_cell function\n",
    "def highlight_cell(obs_mask, ax=None, **kwargs):\n",
    "    ax = ax or plt.gca()\n",
    "    for i in range(obs_mask.shape[0]):      # rows\n",
    "        for j in range(obs_mask.shape[1]):  # columns\n",
    "            if obs_mask[i, j]:\n",
    "                rect = plt.Rectangle((j-0.5, i-0.5), 1, 1, fill=False, **kwargs)\n",
    "                ax.add_patch(rect)\n",
    "\n",
    "for i, ax in enumerate(axs.flat):\n",
    "    ax.set_aspect('equal')\n",
    "    if i == 0:\n",
    "        im = ax.imshow(plot_truth[0, level], cmap=cmap, vmin=vmin, vmax=vmax)\n",
    "        ax.set_title('Truth', fontsize=12)\n",
    "        set_cbar(im)\n",
    "    elif i ==1:\n",
    "        ax.imshow((plot_ens_mean[level]), cmap=cmap, vmin=vmin, vmax=vmax)\n",
    "        ax.set_title(f'Mean,  RMSE {rmse_mean:.2f}', fontsize=12)\n",
    "    elif i ==2:\n",
    "        im = ax.imshow((plot_sample.std(dim=0)[level]), cmap=cmap, vmin=0)\n",
    "        set_cbar(im)\n",
    "        ax.set_title(f'Std', fontsize=12)\n",
    "    else:\n",
    "        ax.imshow((((plot_sample)[i-3, level])).cpu().detach().numpy(), cmap=cmap, vmin=vmin, vmax=vmax)\n",
    "        ax.set_title(f'Sample #{i-2}, RMSE {rmse[i-3].item():.2f}', fontsize=12)\n",
    "    \n",
    "    ax.yaxis.set_visible(False)\n",
    "    ax.xaxis.set_visible(False)\n",
    "plt.tight_layout()\n"
   ]
  },
  {
   "cell_type": "code",
   "execution_count": null,
   "id": "2e0889d2",
   "metadata": {},
   "outputs": [],
   "source": [
    "%matplotlib inline  \n",
    "import numpy as np\n",
    "import matplotlib.pyplot as plt\n",
    "import matplotlib.animation as animation\n",
    "from IPython.display import HTML\n",
    "\n",
    "level = 0 # There are two levels in the data, 0 and 1\n",
    "cmap = plt.get_cmap('viridis',10) # You can try other cmaps also\n",
    "\n",
    "bs = 1000\n",
    "\n",
    "dataset = SQGDataset(\"data/SQG\", mean=0, std=2660)\n",
    "loader = torch.utils.data.DataLoader(dataset, batch_size=bs, shuffle=False)\n",
    "dataset_inverted = SQGDataset(\"data/inverted_SQG\", mean=0, std=1)\n",
    "loader_inverted = torch.utils.data.DataLoader(dataset_inverted, batch_size=bs, shuffle=False)\n",
    "\n",
    "truth = next(iter(loader))\n",
    "noise = next(iter(loader_inverted))\n",
    "\n",
    "fig, ax = plt.subplots(1, 2, figsize=(6,3), constrained_layout=True)\n",
    "ax[0].axis('off')\n",
    "ax[1].axis('off')\n",
    "\n",
    "stds = 3\n",
    "vmin_truth, vmax_truth = -truth.std()*stds, truth.std()*stds\n",
    "vmin_noise, vmax_noise = -noise.std()*stds, noise.std()*stds\n",
    "\n",
    "ims = []\n",
    "im1 = ax[0].imshow(truth[0,level], cmap=cmap, animated=True, vmin=vmin_truth, vmax=vmax_truth)\n",
    "im2 = ax[1].imshow(noise[0,level], cmap=cmap, animated=True, vmin=vmin_noise, vmax=vmax_noise)\n",
    "ims.append(im1)\n",
    "ims.append(im2)\n",
    "\n",
    "def update(frame):\n",
    "    ims[0].set_array(truth[frame, level])\n",
    "    ims[1].set_array(noise[frame, level])\n",
    "    return ims\n",
    "\n",
    "ani = animation.FuncAnimation(\n",
    "    fig, update, frames=truth.shape[0], interval=10, blit=True\n",
    ")\n",
    "\n",
    "#ani.save(f\"SQG.mp4\", writer=\"ffmpeg\", fps=30, dpi=300)\n",
    "\n",
    "HTML(ani.to_jshtml())"
   ]
  }
 ],
 "metadata": {
  "kernelspec": {
   "display_name": "flowdas",
   "language": "python",
   "name": "python3"
  },
  "language_info": {
   "codemirror_mode": {
    "name": "ipython",
    "version": 3
   },
   "file_extension": ".py",
   "mimetype": "text/x-python",
   "name": "python",
   "nbconvert_exporter": "python",
   "pygments_lexer": "ipython3",
   "version": "3.10.16"
  }
 },
 "nbformat": 4,
 "nbformat_minor": 5
}
